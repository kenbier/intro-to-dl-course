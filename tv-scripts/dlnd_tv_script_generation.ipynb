{
 "cells": [
  {
   "cell_type": "markdown",
   "metadata": {
    "deletable": true,
    "editable": true
   },
   "source": [
    "# TV Script Generation\n",
    "In this project, you'll generate your own [Simpsons](https://en.wikipedia.org/wiki/The_Simpsons) TV scripts using RNNs.  You'll be using part of the [Simpsons dataset](https://www.kaggle.com/wcukierski/the-simpsons-by-the-data) of scripts from 27 seasons.  The Neural Network you'll build will generate a new TV script for a scene at [Moe's Tavern](https://simpsonswiki.com/wiki/Moe's_Tavern).\n",
    "## Get the Data\n",
    "The data is already provided for you.  You'll be using a subset of the original dataset.  It consists of only the scenes in Moe's Tavern.  This doesn't include other versions of the tavern, like \"Moe's Cavern\", \"Flaming Moe's\", \"Uncle Moe's Family Feed-Bag\", etc.."
   ]
  },
  {
   "cell_type": "code",
   "execution_count": 1,
   "metadata": {
    "collapsed": false,
    "deletable": true,
    "editable": true
   },
   "outputs": [],
   "source": [
    "\"\"\"\n",
    "DON'T MODIFY ANYTHING IN THIS CELL\n",
    "\"\"\"\n",
    "import helper\n",
    "\n",
    "data_dir = './data/simpsons/moes_tavern_lines.txt'\n",
    "text = helper.load_data(data_dir)\n",
    "# Ignore notice, since we don't use it for analysing the data\n",
    "text = text[81:]"
   ]
  },
  {
   "cell_type": "markdown",
   "metadata": {
    "deletable": true,
    "editable": true
   },
   "source": [
    "## Explore the Data\n",
    "Play around with `view_sentence_range` to view different parts of the data."
   ]
  },
  {
   "cell_type": "code",
   "execution_count": 3,
   "metadata": {
    "collapsed": false,
    "deletable": true,
    "editable": true
   },
   "outputs": [
    {
     "name": "stdout",
     "output_type": "stream",
     "text": [
      "Dataset Stats\n",
      "Roughly the number of unique words: 11492\n",
      "Number of scenes: 262\n",
      "Average number of sentences in each scene: 15.248091603053435\n",
      "Number of lines: 4257\n",
      "Average number of words in each line: 11.50434578341555\n",
      "\n",
      "The sentences 10 to 20:\n",
      "Moe_Szyslak: Ah, isn't that nice. Now, there is a politician who cares.\n",
      "Barney_Gumble: If I ever vote, it'll be for him. (BELCH)\n",
      "\n",
      "\n",
      "Barney_Gumble: Hey Homer, how's your neighbor's store doing?\n",
      "Homer_Simpson: Lousy. He just sits there all day. He'd have a great job if he didn't own the place. (CHUCKLES)\n",
      "Moe_Szyslak: (STRUGGLING WITH CORKSCREW) Crummy right-handed corkscrews! What does he sell?\n",
      "Homer_Simpson: Uh, well actually, Moe...\n",
      "HOMER_(CONT'D: I dunno.\n",
      "\n"
     ]
    }
   ],
   "source": [
    "view_sentence_range = (10, 20)\n",
    "\n",
    "\"\"\"\n",
    "DON'T MODIFY ANYTHING IN THIS CELL\n",
    "\"\"\"\n",
    "import numpy as np\n",
    "\n",
    "print('Dataset Stats')\n",
    "print('Roughly the number of unique words: {}'.format(len({word: None for word in text.split()})))\n",
    "scenes = text.split('\\n\\n')\n",
    "print('Number of scenes: {}'.format(len(scenes)))\n",
    "sentence_count_scene = [scene.count('\\n') for scene in scenes]\n",
    "print('Average number of sentences in each scene: {}'.format(np.average(sentence_count_scene)))\n",
    "\n",
    "sentences = [sentence for scene in scenes for sentence in scene.split('\\n')]\n",
    "print('Number of lines: {}'.format(len(sentences)))\n",
    "word_count_sentence = [len(sentence.split()) for sentence in sentences]\n",
    "print('Average number of words in each line: {}'.format(np.average(word_count_sentence)))\n",
    "\n",
    "print()\n",
    "print('The sentences {} to {}:'.format(*view_sentence_range))\n",
    "print('\\n'.join(text.split('\\n')[view_sentence_range[0]:view_sentence_range[1]]))"
   ]
  },
  {
   "cell_type": "markdown",
   "metadata": {
    "deletable": true,
    "editable": true
   },
   "source": [
    "## Implement Preprocessing Functions\n",
    "The first thing to do to any dataset is preprocessing.  Implement the following preprocessing functions below:\n",
    "- Lookup Table\n",
    "- Tokenize Punctuation\n",
    "\n",
    "### Lookup Table\n",
    "To create a word embedding, you first need to transform the words to ids.  In this function, create two dictionaries:\n",
    "- Dictionary to go from the words to an id, we'll call `vocab_to_int`\n",
    "- Dictionary to go from the id to word, we'll call `int_to_vocab`\n",
    "\n",
    "Return these dictionaries in the following tuple `(vocab_to_int, int_to_vocab)`"
   ]
  },
  {
   "cell_type": "code",
   "execution_count": 89,
   "metadata": {
    "collapsed": false,
    "deletable": true,
    "editable": true
   },
   "outputs": [
    {
     "name": "stdout",
     "output_type": "stream",
     "text": [
      "Tests Passed\n"
     ]
    }
   ],
   "source": [
    "import numpy as np\n",
    "import problem_unittests as tests\n",
    "from collections import Counter\n",
    "\n",
    "\n",
    "def create_lookup_tables(text):\n",
    "    \"\"\"\n",
    "    Create lookup tables for vocabulary\n",
    "    :param text: The text of tv scripts split into words\n",
    "    :return: A tuple of dicts (vocab_to_int, int_to_vocab)\n",
    "    \"\"\"\n",
    "    vocab = set(text)\n",
    "    vocab_to_int = {c: i for i, c in enumerate(vocab)}\n",
    "    int_to_vocab = dict(enumerate(vocab))\n",
    "    return vocab_to_int, int_to_vocab\n",
    "\n",
    "\n",
    "\"\"\"\n",
    "DON'T MODIFY ANYTHING IN THIS CELL THAT IS BELOW THIS LINE\n",
    "\"\"\"\n",
    "tests.test_create_lookup_tables(create_lookup_tables)"
   ]
  },
  {
   "cell_type": "markdown",
   "metadata": {
    "deletable": true,
    "editable": true
   },
   "source": [
    "### Tokenize Punctuation\n",
    "We'll be splitting the script into a word array using spaces as delimiters.  However, punctuations like periods and exclamation marks make it hard for the neural network to distinguish between the word \"bye\" and \"bye!\".\n",
    "\n",
    "Implement the function `token_lookup` to return a dict that will be used to tokenize symbols like \"!\" into \"||Exclamation_Mark||\".  Create a dictionary for the following symbols where the symbol is the key and value is the token:\n",
    "- Period ( . )\n",
    "- Comma ( , )\n",
    "- Quotation Mark ( \" )\n",
    "- Semicolon ( ; )\n",
    "- Exclamation mark ( ! )\n",
    "- Question mark ( ? )\n",
    "- Left Parentheses ( ( )\n",
    "- Right Parentheses ( ) )\n",
    "- Dash ( -- )\n",
    "- Return ( \\n )\n",
    "\n",
    "This dictionary will be used to token the symbols and add the delimiter (space) around it.  This separates the symbols as it's own word, making it easier for the neural network to predict on the next word. Make sure you don't use a token that could be confused as a word. Instead of using the token \"dash\", try using something like \"||dash||\"."
   ]
  },
  {
   "cell_type": "code",
   "execution_count": 90,
   "metadata": {
    "collapsed": false,
    "deletable": true,
    "editable": true
   },
   "outputs": [
    {
     "name": "stdout",
     "output_type": "stream",
     "text": [
      "Tests Passed\n"
     ]
    }
   ],
   "source": [
    "def token_lookup():\n",
    "    \"\"\"\n",
    "    Generate a dict to turn punctuation into a token.\n",
    "    :return: Tokenize dictionary where the key is the punctuation and the value is the token\n",
    "    \"\"\"\n",
    "    return {\".\": \"||period||\",\n",
    "            \",\": \"||comma|\",\n",
    "            \"\\\"\": \"||qoutation_mark||\",\n",
    "            \";\": \"||semicolon||\",\n",
    "             \"!\": \"||exclamation_mark||\",\n",
    "             \"(\": \"||left_parentheses||\",\n",
    "             \"?\": \"||question_mark||\",\n",
    "             \")\": \"||right_parentheses||\",\n",
    "             \"--\": \"||dash||\",\n",
    "             \"\\n\": \"||return||\"}\n",
    "\n",
    "\"\"\"\n",
    "DON'T MODIFY ANYTHING IN THIS CELL THAT IS BELOW THIS LINE\n",
    "\"\"\"\n",
    "tests.test_tokenize(token_lookup)"
   ]
  },
  {
   "cell_type": "markdown",
   "metadata": {
    "deletable": true,
    "editable": true
   },
   "source": [
    "## Preprocess all the data and save it\n",
    "Running the code cell below will preprocess all the data and save it to file."
   ]
  },
  {
   "cell_type": "code",
   "execution_count": 17,
   "metadata": {
    "collapsed": false,
    "deletable": true,
    "editable": true
   },
   "outputs": [],
   "source": [
    "\"\"\"\n",
    "DON'T MODIFY ANYTHING IN THIS CELL\n",
    "\"\"\"\n",
    "# Preprocess Training, Validation, and Testing Data\n",
    "helper.preprocess_and_save_data(data_dir, token_lookup, create_lookup_tables)"
   ]
  },
  {
   "cell_type": "markdown",
   "metadata": {
    "deletable": true,
    "editable": true
   },
   "source": [
    "# Check Point\n",
    "This is your first checkpoint. If you ever decide to come back to this notebook or have to restart the notebook, you can start from here. The preprocessed data has been saved to disk."
   ]
  },
  {
   "cell_type": "code",
   "execution_count": 18,
   "metadata": {
    "collapsed": false,
    "deletable": true,
    "editable": true
   },
   "outputs": [],
   "source": [
    "\"\"\"\n",
    "DON'T MODIFY ANYTHING IN THIS CELL\n",
    "\"\"\"\n",
    "import helper\n",
    "import numpy as np\n",
    "import problem_unittests as tests\n",
    "\n",
    "int_text, vocab_to_int, int_to_vocab, token_dict = helper.load_preprocess()"
   ]
  },
  {
   "cell_type": "markdown",
   "metadata": {
    "deletable": true,
    "editable": true
   },
   "source": [
    "## Build the Neural Network\n",
    "You'll build the components necessary to build a RNN by implementing the following functions below:\n",
    "- get_inputs\n",
    "- get_init_cell\n",
    "- get_embed\n",
    "- build_rnn\n",
    "- build_nn\n",
    "- get_batches\n",
    "\n",
    "### Check the Version of TensorFlow and Access to GPU"
   ]
  },
  {
   "cell_type": "code",
   "execution_count": 19,
   "metadata": {
    "collapsed": false
   },
   "outputs": [
    {
     "name": "stdout",
     "output_type": "stream",
     "text": [
      "TensorFlow Version: 1.0.0\n"
     ]
    },
    {
     "name": "stderr",
     "output_type": "stream",
     "text": [
      "/Users/Kenny/anaconda/envs/dlnd-tf-lab/lib/python3.5/site-packages/ipykernel/__main__.py:14: UserWarning: No GPU found. Please use a GPU to train your neural network.\n"
     ]
    }
   ],
   "source": [
    "\"\"\"\n",
    "DON'T MODIFY ANYTHING IN THIS CELL\n",
    "\"\"\"\n",
    "from distutils.version import LooseVersion\n",
    "import warnings\n",
    "import tensorflow as tf\n",
    "\n",
    "# Check TensorFlow Version\n",
    "assert LooseVersion(tf.__version__) >= LooseVersion('1.0'), 'Please use TensorFlow version 1.0 or newer'\n",
    "print('TensorFlow Version: {}'.format(tf.__version__))\n",
    "\n",
    "# Check for a GPU\n",
    "if not tf.test.gpu_device_name():\n",
    "    warnings.warn('No GPU found. Please use a GPU to train your neural network.')\n",
    "else:\n",
    "    print('Default GPU Device: {}'.format(tf.test.gpu_device_name()))"
   ]
  },
  {
   "cell_type": "markdown",
   "metadata": {},
   "source": [
    "### Input\n",
    "Implement the `get_inputs()` function to create TF Placeholders for the Neural Network.  It should create the following placeholders:\n",
    "- Input text placeholder named \"input\" using the [TF Placeholder](https://www.tensorflow.org/api_docs/python/tf/placeholder) `name` parameter.\n",
    "- Targets placeholder\n",
    "- Learning Rate placeholder\n",
    "\n",
    "Return the placeholders in the following the tuple `(Input, Targets, LearingRate)`"
   ]
  },
  {
   "cell_type": "code",
   "execution_count": 111,
   "metadata": {
    "collapsed": false,
    "deletable": true,
    "editable": true
   },
   "outputs": [
    {
     "name": "stdout",
     "output_type": "stream",
     "text": [
      "Tests Passed\n"
     ]
    }
   ],
   "source": [
    "def get_inputs():\n",
    "    \"\"\"\n",
    "    Create TF Placeholders for input, targets, and learning rate.\n",
    "    :return: Tuple (input, targets, learning rate)\n",
    "    \"\"\"\n",
    "    inputs = tf.placeholder(tf.int32, [None, None], name='input')\n",
    "    targets = tf.placeholder(tf.int32, [None, None], name='targets')\n",
    "    learning_rate = tf.placeholder(tf.float32, None, name='learning_rate')\n",
    "    return inputs, targets, learning_rate\n",
    "\n",
    "\n",
    "\"\"\"\n",
    "DON'T MODIFY ANYTHING IN THIS CELL THAT IS BELOW THIS LINE\n",
    "\"\"\"\n",
    "tests.test_get_inputs(get_inputs)"
   ]
  },
  {
   "cell_type": "markdown",
   "metadata": {
    "deletable": true,
    "editable": true
   },
   "source": [
    "### Build RNN Cell and Initialize\n",
    "Stack one or more [`BasicLSTMCells`](https://www.tensorflow.org/api_docs/python/tf/contrib/rnn/BasicLSTMCell) in a [`MultiRNNCell`](https://www.tensorflow.org/api_docs/python/tf/contrib/rnn/MultiRNNCell).\n",
    "- The Rnn size should be set using `rnn_size`\n",
    "- Initalize Cell State using the MultiRNNCell's [`zero_state()`](https://www.tensorflow.org/api_docs/python/tf/contrib/rnn/MultiRNNCell#zero_state) function\n",
    "    - Apply the name \"initial_state\" to the initial state using [`tf.identity()`](https://www.tensorflow.org/api_docs/python/tf/identity)\n",
    "\n",
    "Return the cell and initial state in the following tuple `(Cell, InitialState)`"
   ]
  },
  {
   "cell_type": "code",
   "execution_count": 112,
   "metadata": {
    "collapsed": false,
    "deletable": true,
    "editable": true
   },
   "outputs": [
    {
     "name": "stdout",
     "output_type": "stream",
     "text": [
      "Tests Passed\n"
     ]
    }
   ],
   "source": [
    "def get_init_cell(batch_size, rnn_size):\n",
    "    \"\"\"\n",
    "    Create an RNN Cell and initialize it.\n",
    "    :param batch_size: Size of batches\n",
    "    :param rnn_size: Size of RNNs\n",
    "    :return: Tuple (cell, initialize state)\n",
    "    \"\"\"\n",
    "    lstm = tf.contrib.rnn.BasicLSTMCell(rnn_size)\n",
    "    cell = tf.contrib.rnn.MultiRNNCell([lstm] * 2)\n",
    "    initial_state = tf.identity(cell.zero_state(batch_size, tf.float32), name='initial_state')\n",
    "\n",
    "    return cell,initial_state\n",
    "\n",
    "\n",
    "\"\"\"\n",
    "DON'T MODIFY ANYTHING IN THIS CELL THAT IS BELOW THIS LINE\n",
    "\"\"\"\n",
    "tests.test_get_init_cell(get_init_cell)"
   ]
  },
  {
   "cell_type": "markdown",
   "metadata": {
    "deletable": true,
    "editable": true
   },
   "source": [
    "### Word Embedding\n",
    "Apply embedding to `input_data` using TensorFlow.  Return the embedded sequence."
   ]
  },
  {
   "cell_type": "code",
   "execution_count": 113,
   "metadata": {
    "collapsed": false,
    "deletable": true,
    "editable": true
   },
   "outputs": [
    {
     "name": "stdout",
     "output_type": "stream",
     "text": [
      "Tests Passed\n"
     ]
    }
   ],
   "source": [
    "def get_embed(input_data, vocab_size, embed_dim):\n",
    "    \"\"\"\n",
    "    Create embedding for <input_data>.\n",
    "    :param input_data: TF placeholder for text input.\n",
    "    :param vocab_size: Number of words in vocabulary.\n",
    "    :param embed_dim: Number of embedding dimensions\n",
    "    :return: Embedded input.\n",
    "    \"\"\"\n",
    "    embedding = tf.Variable(tf.random_uniform((vocab_size, embed_dim), -1, 1))\n",
    "    embed = tf.nn.embedding_lookup(embedding, input_data)\n",
    "    return embed\n",
    "\n",
    "\n",
    "\"\"\"\n",
    "DON'T MODIFY ANYTHING IN THIS CELL THAT IS BELOW THIS LINE\n",
    "\"\"\"\n",
    "tests.test_get_embed(get_embed)"
   ]
  },
  {
   "cell_type": "markdown",
   "metadata": {
    "deletable": true,
    "editable": true
   },
   "source": [
    "### Build RNN\n",
    "You created a RNN Cell in the `get_init_cell()` function.  Time to use the cell to create a RNN.\n",
    "- Build the RNN using the [`tf.nn.dynamic_rnn()`](https://www.tensorflow.org/api_docs/python/tf/nn/dynamic_rnn)\n",
    " - Apply the name \"final_state\" to the final state using [`tf.identity()`](https://www.tensorflow.org/api_docs/python/tf/identity)\n",
    "\n",
    "Return the outputs and final_state state in the following tuple `(Outputs, FinalState)` "
   ]
  },
  {
   "cell_type": "code",
   "execution_count": 114,
   "metadata": {
    "collapsed": false,
    "deletable": true,
    "editable": true
   },
   "outputs": [
    {
     "name": "stdout",
     "output_type": "stream",
     "text": [
      "Tests Passed\n"
     ]
    }
   ],
   "source": [
    "def build_rnn(cell, inputs):\n",
    "    \"\"\"\n",
    "    Create a RNN using a RNN Cell\n",
    "    :param cell: RNN Cell\n",
    "    :param inputs: Input text data\n",
    "    :return: Tuple (Outputs, Final State)\n",
    "    \"\"\"\n",
    "    outputs, final_state = tf.nn.dynamic_rnn(cell, inputs, dtype=tf.float32)\n",
    "    return outputs, tf.identity(final_state, name=\"final_state\")\n",
    "\n",
    "\n",
    "\"\"\"\n",
    "DON'T MODIFY ANYTHING IN THIS CELL THAT IS BELOW THIS LINE\n",
    "\"\"\"\n",
    "tests.test_build_rnn(build_rnn)"
   ]
  },
  {
   "cell_type": "markdown",
   "metadata": {
    "deletable": true,
    "editable": true
   },
   "source": [
    "### Build the Neural Network\n",
    "Apply the functions you implemented above to:\n",
    "- Apply embedding to `input_data` using your `get_embed(input_data, vocab_size, embed_dim)` function.\n",
    "- Build RNN using `cell` and your `build_rnn(cell, inputs)` function.\n",
    "- Apply a fully connected layer with a linear activation and `vocab_size` as the number of outputs.\n",
    "\n",
    "Return the logits and final state in the following tuple (Logits, FinalState) "
   ]
  },
  {
   "cell_type": "code",
   "execution_count": 115,
   "metadata": {
    "collapsed": false,
    "deletable": true,
    "editable": true
   },
   "outputs": [
    {
     "name": "stdout",
     "output_type": "stream",
     "text": [
      "Tests Passed\n"
     ]
    }
   ],
   "source": [
    "def build_nn(cell, rnn_size, input_data, vocab_size, embed_dim):\n",
    "    \"\"\"\n",
    "    Build part of the neural network\n",
    "    :param cell: RNN cell\n",
    "    :param rnn_size: Size of rnns\n",
    "    :param input_data: Input data\n",
    "    :param vocab_size: Vocabulary size\n",
    "    :param embed_dim: Number of embedding dimensions\n",
    "    :return: Tuple (Logits, FinalState)\n",
    "    \"\"\"\n",
    "    embed = get_embed(input_data, vocab_size, embed_dim)\n",
    "    rnn, final_state = build_rnn(cell, embed)\n",
    "    predictions = tf.contrib.layers.fully_connected(rnn, vocab_size, activation_fn=None,\n",
    "                                                    weights_initializer=tf.truncated_normal_initializer(stddev=0.01),\n",
    "                                                    biases_initializer=tf.zeros_initializer())\n",
    "    return predictions, final_state\n",
    "\n",
    "\n",
    "\"\"\"\n",
    "DON'T MODIFY ANYTHING IN THIS CELL THAT IS BELOW THIS LINE\n",
    "\"\"\"\n",
    "tests.test_build_nn(build_nn)"
   ]
  },
  {
   "cell_type": "markdown",
   "metadata": {
    "deletable": true,
    "editable": true
   },
   "source": [
    "### Batches\n",
    "Implement `get_batches` to create batches of input and targets using `int_text`.  The batches should be a Numpy array with the shape `(number of batches, 2, batch size, sequence length)`. Each batch contains two elements:\n",
    "- The first element is a single batch of **input** with the shape `[batch size, sequence length]`\n",
    "- The second element is a single batch of **targets** with the shape `[batch size, sequence length]`\n",
    "\n",
    "If you can't fill the last batch with enough data, drop the last batch.\n",
    "\n",
    "For exmple, `get_batches([1, 2, 3, 4, 5, 6, 7, 8, 9, 10, 11, 12, 13, 14, 15], 2, 3)` would return a Numpy array of the following:\n",
    "```\n",
    "[\n",
    "  # First Batch\n",
    "  [\n",
    "    # Batch of Input\n",
    "    [[ 1  2  3], [ 7  8  9]],\n",
    "    # Batch of targets\n",
    "    [[ 2  3  4], [ 8  9 10]]\n",
    "  ],\n",
    " \n",
    "  # Second Batch\n",
    "  [\n",
    "    # Batch of Input\n",
    "    [[ 4  5  6], [10 11 12]],\n",
    "    # Batch of targets\n",
    "    [[ 5  6  7], [11 12 13]]\n",
    "  ]\n",
    "]\n",
    "```"
   ]
  },
  {
   "cell_type": "code",
   "execution_count": 120,
   "metadata": {
    "collapsed": false,
    "deletable": true,
    "editable": true
   },
   "outputs": [
    {
     "name": "stdout",
     "output_type": "stream",
     "text": [
      "Tests Passed\n"
     ]
    }
   ],
   "source": [
    "def get_batches(int_text, batch_size, seq_length):\n",
    "    \"\"\"\n",
    "    Return batches of input and target\n",
    "    :param int_text: Text with the words replaced by their ids\n",
    "    :param batch_size: The size of batch\n",
    "    :param seq_length: The length of sequence\n",
    "    :return: Batches as a Numpy array\n",
    "    \"\"\"\n",
    "    slice_size = batch_size * seq_length\n",
    "    n_batches = int(len(int_text) / slice_size)\n",
    "\n",
    "    x = np.array(int_text[: n_batches * slice_size])\n",
    "    y = np.array(int_text[1: n_batches * slice_size + 1])\n",
    " \n",
    "    x = np.split(x.reshape(batch_size, -1), n_batches, 1)\n",
    "    y = np.split(y.reshape(batch_size, -1), n_batches, 1)\n",
    "\n",
    "    return np.asarray(list(zip(x, y)))\n",
    "\n",
    "\"\"\"\n",
    "DON'T MODIFY ANYTHING IN THIS CELL THAT IS BELOW THIS LINE\n",
    "\"\"\"\n",
    "tests.test_get_batches(get_batches)"
   ]
  },
  {
   "cell_type": "markdown",
   "metadata": {
    "deletable": true,
    "editable": true
   },
   "source": [
    "## Neural Network Training\n",
    "### Hyperparameters\n",
    "Tune the following parameters:\n",
    "\n",
    "- Set `num_epochs` to the number of epochs.\n",
    "- Set `batch_size` to the batch size.\n",
    "- Set `rnn_size` to the size of the RNNs.\n",
    "- Set `embed_dim` to the size of the embedding.\n",
    "- Set `seq_length` to the length of sequence.\n",
    "- Set `learning_rate` to the learning rate.\n",
    "- Set `show_every_n_batches` to the number of batches the neural network should print progress."
   ]
  },
  {
   "cell_type": "code",
   "execution_count": 124,
   "metadata": {
    "collapsed": false,
    "deletable": true,
    "editable": true
   },
   "outputs": [],
   "source": [
    "# Number of Epochs\n",
    "num_epochs = 128\n",
    "# Batch Size\n",
    "batch_size = 128\n",
    "# RNN Size\n",
    "rnn_size = 256\n",
    "# Embedding Dimension Size\n",
    "embed_dim = 50\n",
    "# Sequence Length\n",
    "seq_length = 20\n",
    "# Learning Rate\n",
    "learning_rate = .01\n",
    "# Show stats for every n number of batches\n",
    "show_every_n_batches = 10\n",
    "\n",
    "\"\"\"\n",
    "DON'T MODIFY ANYTHING IN THIS CELL THAT IS BELOW THIS LINE\n",
    "\"\"\"\n",
    "save_dir = './save'"
   ]
  },
  {
   "cell_type": "markdown",
   "metadata": {
    "deletable": true,
    "editable": true
   },
   "source": [
    "### Build the Graph\n",
    "Build the graph using the neural network you implemented."
   ]
  },
  {
   "cell_type": "code",
   "execution_count": 125,
   "metadata": {
    "collapsed": false,
    "deletable": true,
    "editable": true
   },
   "outputs": [],
   "source": [
    "\"\"\"\n",
    "DON'T MODIFY ANYTHING IN THIS CELL\n",
    "\"\"\"\n",
    "from tensorflow.contrib import seq2seq\n",
    "\n",
    "train_graph = tf.Graph()\n",
    "with train_graph.as_default():\n",
    "    vocab_size = len(int_to_vocab)\n",
    "    input_text, targets, lr = get_inputs()\n",
    "    input_data_shape = tf.shape(input_text)\n",
    "    cell, initial_state = get_init_cell(input_data_shape[0], rnn_size)\n",
    "    logits, final_state = build_nn(cell, rnn_size, input_text, vocab_size, embed_dim)\n",
    "\n",
    "    # Probabilities for generating words\n",
    "    probs = tf.nn.softmax(logits, name='probs')\n",
    "\n",
    "    # Loss function\n",
    "    cost = seq2seq.sequence_loss(\n",
    "        logits,\n",
    "        targets,\n",
    "        tf.ones([input_data_shape[0], input_data_shape[1]]))\n",
    "\n",
    "    # Optimizer\n",
    "    optimizer = tf.train.AdamOptimizer(lr)\n",
    "\n",
    "    # Gradient Clipping\n",
    "    gradients = optimizer.compute_gradients(cost)\n",
    "    capped_gradients = [(tf.clip_by_value(grad, -1., 1.), var) for grad, var in gradients]\n",
    "    train_op = optimizer.apply_gradients(capped_gradients)"
   ]
  },
  {
   "cell_type": "markdown",
   "metadata": {
    "deletable": true,
    "editable": true
   },
   "source": [
    "## Train\n",
    "Train the neural network on the preprocessed data.  If you have a hard time getting a good loss, check the [forms](https://discussions.udacity.com/) to see if anyone is having the same problem."
   ]
  },
  {
   "cell_type": "code",
   "execution_count": 126,
   "metadata": {
    "collapsed": false,
    "deletable": true,
    "editable": true
   },
   "outputs": [
    {
     "name": "stdout",
     "output_type": "stream",
     "text": [
      "Epoch   0 Batch    0/26   train_loss = 8.822\n",
      "Epoch   0 Batch   10/26   train_loss = 6.806\n",
      "Epoch   0 Batch   20/26   train_loss = 6.763\n",
      "Epoch   1 Batch    4/26   train_loss = 6.267\n",
      "Epoch   1 Batch   14/26   train_loss = 6.111\n",
      "Epoch   1 Batch   24/26   train_loss = 6.277\n",
      "Epoch   2 Batch    8/26   train_loss = 6.154\n",
      "Epoch   2 Batch   18/26   train_loss = 6.171\n",
      "Epoch   3 Batch    2/26   train_loss = 5.997\n",
      "Epoch   3 Batch   12/26   train_loss = 6.153\n",
      "Epoch   3 Batch   22/26   train_loss = 5.846\n",
      "Epoch   4 Batch    6/26   train_loss = 5.844\n",
      "Epoch   4 Batch   16/26   train_loss = 5.589\n",
      "Epoch   5 Batch    0/26   train_loss = 5.446\n",
      "Epoch   5 Batch   10/26   train_loss = 5.452\n",
      "Epoch   5 Batch   20/26   train_loss = 5.366\n",
      "Epoch   6 Batch    4/26   train_loss = 5.358\n",
      "Epoch   6 Batch   14/26   train_loss = 5.211\n",
      "Epoch   6 Batch   24/26   train_loss = 5.148\n",
      "Epoch   7 Batch    8/26   train_loss = 4.967\n",
      "Epoch   7 Batch   18/26   train_loss = 4.967\n",
      "Epoch   8 Batch    2/26   train_loss = 4.867\n",
      "Epoch   8 Batch   12/26   train_loss = 4.994\n",
      "Epoch   8 Batch   22/26   train_loss = 4.735\n",
      "Epoch   9 Batch    6/26   train_loss = 4.855\n",
      "Epoch   9 Batch   16/26   train_loss = 4.728\n",
      "Epoch  10 Batch    0/26   train_loss = 4.632\n",
      "Epoch  10 Batch   10/26   train_loss = 4.565\n",
      "Epoch  10 Batch   20/26   train_loss = 4.532\n",
      "Epoch  11 Batch    4/26   train_loss = 4.503\n",
      "Epoch  11 Batch   14/26   train_loss = 4.361\n",
      "Epoch  11 Batch   24/26   train_loss = 4.379\n",
      "Epoch  12 Batch    8/26   train_loss = 4.311\n",
      "Epoch  12 Batch   18/26   train_loss = 4.270\n",
      "Epoch  13 Batch    2/26   train_loss = 4.256\n",
      "Epoch  13 Batch   12/26   train_loss = 4.354\n",
      "Epoch  13 Batch   22/26   train_loss = 4.075\n",
      "Epoch  14 Batch    6/26   train_loss = 4.208\n",
      "Epoch  14 Batch   16/26   train_loss = 4.166\n",
      "Epoch  15 Batch    0/26   train_loss = 4.065\n",
      "Epoch  15 Batch   10/26   train_loss = 3.998\n",
      "Epoch  15 Batch   20/26   train_loss = 3.986\n",
      "Epoch  16 Batch    4/26   train_loss = 4.011\n",
      "Epoch  16 Batch   14/26   train_loss = 3.817\n",
      "Epoch  16 Batch   24/26   train_loss = 3.858\n",
      "Epoch  17 Batch    8/26   train_loss = 3.810\n",
      "Epoch  17 Batch   18/26   train_loss = 3.742\n",
      "Epoch  18 Batch    2/26   train_loss = 3.806\n",
      "Epoch  18 Batch   12/26   train_loss = 3.768\n",
      "Epoch  18 Batch   22/26   train_loss = 3.557\n",
      "Epoch  19 Batch    6/26   train_loss = 3.705\n",
      "Epoch  19 Batch   16/26   train_loss = 3.569\n",
      "Epoch  20 Batch    0/26   train_loss = 3.548\n",
      "Epoch  20 Batch   10/26   train_loss = 3.534\n",
      "Epoch  20 Batch   20/26   train_loss = 3.424\n",
      "Epoch  21 Batch    4/26   train_loss = 3.487\n",
      "Epoch  21 Batch   14/26   train_loss = 3.376\n",
      "Epoch  21 Batch   24/26   train_loss = 3.338\n",
      "Epoch  22 Batch    8/26   train_loss = 3.320\n",
      "Epoch  22 Batch   18/26   train_loss = 3.292\n",
      "Epoch  23 Batch    2/26   train_loss = 3.330\n",
      "Epoch  23 Batch   12/26   train_loss = 3.256\n",
      "Epoch  23 Batch   22/26   train_loss = 3.144\n",
      "Epoch  24 Batch    6/26   train_loss = 3.219\n",
      "Epoch  24 Batch   16/26   train_loss = 3.150\n",
      "Epoch  25 Batch    0/26   train_loss = 3.168\n",
      "Epoch  25 Batch   10/26   train_loss = 3.108\n",
      "Epoch  25 Batch   20/26   train_loss = 2.931\n",
      "Epoch  26 Batch    4/26   train_loss = 3.069\n",
      "Epoch  26 Batch   14/26   train_loss = 2.921\n",
      "Epoch  26 Batch   24/26   train_loss = 2.815\n",
      "Epoch  27 Batch    8/26   train_loss = 2.876\n",
      "Epoch  27 Batch   18/26   train_loss = 2.839\n",
      "Epoch  28 Batch    2/26   train_loss = 2.849\n",
      "Epoch  28 Batch   12/26   train_loss = 2.773\n",
      "Epoch  28 Batch   22/26   train_loss = 2.724\n",
      "Epoch  29 Batch    6/26   train_loss = 2.798\n",
      "Epoch  29 Batch   16/26   train_loss = 2.785\n",
      "Epoch  30 Batch    0/26   train_loss = 2.741\n",
      "Epoch  30 Batch   10/26   train_loss = 2.752\n",
      "Epoch  30 Batch   20/26   train_loss = 2.593\n",
      "Epoch  31 Batch    4/26   train_loss = 2.646\n",
      "Epoch  31 Batch   14/26   train_loss = 2.545\n",
      "Epoch  31 Batch   24/26   train_loss = 2.493\n",
      "Epoch  32 Batch    8/26   train_loss = 2.431\n",
      "Epoch  32 Batch   18/26   train_loss = 2.416\n",
      "Epoch  33 Batch    2/26   train_loss = 2.430\n",
      "Epoch  33 Batch   12/26   train_loss = 2.322\n",
      "Epoch  33 Batch   22/26   train_loss = 2.242\n",
      "Epoch  34 Batch    6/26   train_loss = 2.290\n",
      "Epoch  34 Batch   16/26   train_loss = 2.328\n",
      "Epoch  35 Batch    0/26   train_loss = 2.223\n",
      "Epoch  35 Batch   10/26   train_loss = 2.239\n",
      "Epoch  35 Batch   20/26   train_loss = 2.113\n",
      "Epoch  36 Batch    4/26   train_loss = 2.111\n",
      "Epoch  36 Batch   14/26   train_loss = 2.069\n",
      "Epoch  36 Batch   24/26   train_loss = 1.981\n",
      "Epoch  37 Batch    8/26   train_loss = 2.003\n",
      "Epoch  37 Batch   18/26   train_loss = 1.994\n",
      "Epoch  38 Batch    2/26   train_loss = 2.018\n",
      "Epoch  38 Batch   12/26   train_loss = 1.963\n",
      "Epoch  38 Batch   22/26   train_loss = 1.929\n",
      "Epoch  39 Batch    6/26   train_loss = 1.912\n",
      "Epoch  39 Batch   16/26   train_loss = 2.059\n",
      "Epoch  40 Batch    0/26   train_loss = 1.936\n",
      "Epoch  40 Batch   10/26   train_loss = 1.980\n",
      "Epoch  40 Batch   20/26   train_loss = 1.862\n",
      "Epoch  41 Batch    4/26   train_loss = 1.803\n",
      "Epoch  41 Batch   14/26   train_loss = 1.802\n",
      "Epoch  41 Batch   24/26   train_loss = 1.735\n",
      "Epoch  42 Batch    8/26   train_loss = 1.682\n",
      "Epoch  42 Batch   18/26   train_loss = 1.719\n",
      "Epoch  43 Batch    2/26   train_loss = 1.702\n",
      "Epoch  43 Batch   12/26   train_loss = 1.624\n",
      "Epoch  43 Batch   22/26   train_loss = 1.608\n",
      "Epoch  44 Batch    6/26   train_loss = 1.586\n",
      "Epoch  44 Batch   16/26   train_loss = 1.693\n",
      "Epoch  45 Batch    0/26   train_loss = 1.640\n",
      "Epoch  45 Batch   10/26   train_loss = 1.574\n",
      "Epoch  45 Batch   20/26   train_loss = 1.506\n",
      "Epoch  46 Batch    4/26   train_loss = 1.540\n",
      "Epoch  46 Batch   14/26   train_loss = 1.451\n",
      "Epoch  46 Batch   24/26   train_loss = 1.478\n",
      "Epoch  47 Batch    8/26   train_loss = 1.398\n",
      "Epoch  47 Batch   18/26   train_loss = 1.463\n",
      "Epoch  48 Batch    2/26   train_loss = 1.512\n",
      "Epoch  48 Batch   12/26   train_loss = 1.387\n",
      "Epoch  48 Batch   22/26   train_loss = 1.430\n",
      "Epoch  49 Batch    6/26   train_loss = 1.441\n",
      "Epoch  49 Batch   16/26   train_loss = 1.424\n",
      "Epoch  50 Batch    0/26   train_loss = 1.407\n",
      "Epoch  50 Batch   10/26   train_loss = 1.422\n",
      "Epoch  50 Batch   20/26   train_loss = 1.259\n",
      "Epoch  51 Batch    4/26   train_loss = 1.327\n",
      "Epoch  51 Batch   14/26   train_loss = 1.247\n",
      "Epoch  51 Batch   24/26   train_loss = 1.249\n",
      "Epoch  52 Batch    8/26   train_loss = 1.208\n",
      "Epoch  52 Batch   18/26   train_loss = 1.210\n",
      "Epoch  53 Batch    2/26   train_loss = 1.258\n",
      "Epoch  53 Batch   12/26   train_loss = 1.204\n",
      "Epoch  53 Batch   22/26   train_loss = 1.175\n",
      "Epoch  54 Batch    6/26   train_loss = 1.203\n",
      "Epoch  54 Batch   16/26   train_loss = 1.254\n",
      "Epoch  55 Batch    0/26   train_loss = 1.192\n",
      "Epoch  55 Batch   10/26   train_loss = 1.244\n",
      "Epoch  55 Batch   20/26   train_loss = 1.051\n",
      "Epoch  56 Batch    4/26   train_loss = 1.128\n",
      "Epoch  56 Batch   14/26   train_loss = 1.090\n",
      "Epoch  56 Batch   24/26   train_loss = 1.042\n",
      "Epoch  57 Batch    8/26   train_loss = 1.060\n",
      "Epoch  57 Batch   18/26   train_loss = 1.089\n",
      "Epoch  58 Batch    2/26   train_loss = 1.090\n",
      "Epoch  58 Batch   12/26   train_loss = 1.074\n",
      "Epoch  58 Batch   22/26   train_loss = 1.011\n",
      "Epoch  59 Batch    6/26   train_loss = 1.034\n",
      "Epoch  59 Batch   16/26   train_loss = 1.089\n",
      "Epoch  60 Batch    0/26   train_loss = 1.005\n",
      "Epoch  60 Batch   10/26   train_loss = 1.134\n",
      "Epoch  60 Batch   20/26   train_loss = 0.917\n",
      "Epoch  61 Batch    4/26   train_loss = 0.946\n",
      "Epoch  61 Batch   14/26   train_loss = 0.946\n",
      "Epoch  61 Batch   24/26   train_loss = 0.848\n",
      "Epoch  62 Batch    8/26   train_loss = 0.822\n",
      "Epoch  62 Batch   18/26   train_loss = 0.871\n",
      "Epoch  63 Batch    2/26   train_loss = 0.837\n",
      "Epoch  63 Batch   12/26   train_loss = 0.822\n",
      "Epoch  63 Batch   22/26   train_loss = 0.777\n",
      "Epoch  64 Batch    6/26   train_loss = 0.775\n",
      "Epoch  64 Batch   16/26   train_loss = 0.834\n",
      "Epoch  65 Batch    0/26   train_loss = 0.747\n",
      "Epoch  65 Batch   10/26   train_loss = 0.804\n",
      "Epoch  65 Batch   20/26   train_loss = 0.691\n",
      "Epoch  66 Batch    4/26   train_loss = 0.682\n",
      "Epoch  66 Batch   14/26   train_loss = 0.637\n",
      "Epoch  66 Batch   24/26   train_loss = 0.612\n",
      "Epoch  67 Batch    8/26   train_loss = 0.606\n",
      "Epoch  67 Batch   18/26   train_loss = 0.619\n",
      "Epoch  68 Batch    2/26   train_loss = 0.598\n",
      "Epoch  68 Batch   12/26   train_loss = 0.602\n",
      "Epoch  68 Batch   22/26   train_loss = 0.591\n",
      "Epoch  69 Batch    6/26   train_loss = 0.542\n",
      "Epoch  69 Batch   16/26   train_loss = 0.624\n",
      "Epoch  70 Batch    0/26   train_loss = 0.579\n",
      "Epoch  70 Batch   10/26   train_loss = 0.593\n",
      "Epoch  70 Batch   20/26   train_loss = 0.521\n",
      "Epoch  71 Batch    4/26   train_loss = 0.521\n",
      "Epoch  71 Batch   14/26   train_loss = 0.496\n",
      "Epoch  71 Batch   24/26   train_loss = 0.472\n",
      "Epoch  72 Batch    8/26   train_loss = 0.474\n",
      "Epoch  72 Batch   18/26   train_loss = 0.481\n",
      "Epoch  73 Batch    2/26   train_loss = 0.488\n",
      "Epoch  73 Batch   12/26   train_loss = 0.462\n",
      "Epoch  73 Batch   22/26   train_loss = 0.485\n",
      "Epoch  74 Batch    6/26   train_loss = 0.457\n",
      "Epoch  74 Batch   16/26   train_loss = 0.500\n",
      "Epoch  75 Batch    0/26   train_loss = 0.467\n",
      "Epoch  75 Batch   10/26   train_loss = 0.491\n",
      "Epoch  75 Batch   20/26   train_loss = 0.449\n",
      "Epoch  76 Batch    4/26   train_loss = 0.461\n",
      "Epoch  76 Batch   14/26   train_loss = 0.430\n",
      "Epoch  76 Batch   24/26   train_loss = 0.409\n",
      "Epoch  77 Batch    8/26   train_loss = 0.429\n",
      "Epoch  77 Batch   18/26   train_loss = 0.453\n",
      "Epoch  78 Batch    2/26   train_loss = 0.459\n",
      "Epoch  78 Batch   12/26   train_loss = 0.406\n",
      "Epoch  78 Batch   22/26   train_loss = 0.457\n",
      "Epoch  79 Batch    6/26   train_loss = 0.459\n",
      "Epoch  79 Batch   16/26   train_loss = 0.437\n",
      "Epoch  80 Batch    0/26   train_loss = 0.450\n",
      "Epoch  80 Batch   10/26   train_loss = 0.485\n",
      "Epoch  80 Batch   20/26   train_loss = 0.404\n",
      "Epoch  81 Batch    4/26   train_loss = 0.429\n",
      "Epoch  81 Batch   14/26   train_loss = 0.422\n",
      "Epoch  81 Batch   24/26   train_loss = 0.391\n",
      "Epoch  82 Batch    8/26   train_loss = 0.415\n",
      "Epoch  82 Batch   18/26   train_loss = 0.408\n",
      "Epoch  83 Batch    2/26   train_loss = 0.408\n",
      "Epoch  83 Batch   12/26   train_loss = 0.484\n",
      "Epoch  83 Batch   22/26   train_loss = 0.454\n",
      "Epoch  84 Batch    6/26   train_loss = 0.410\n",
      "Epoch  84 Batch   16/26   train_loss = 0.450\n",
      "Epoch  85 Batch    0/26   train_loss = 0.509\n",
      "Epoch  85 Batch   10/26   train_loss = 0.469\n",
      "Epoch  85 Batch   20/26   train_loss = 0.439\n",
      "Epoch  86 Batch    4/26   train_loss = 0.413\n",
      "Epoch  86 Batch   14/26   train_loss = 0.442\n",
      "Epoch  86 Batch   24/26   train_loss = 0.444\n",
      "Epoch  87 Batch    8/26   train_loss = 0.440\n",
      "Epoch  87 Batch   18/26   train_loss = 0.424\n",
      "Epoch  88 Batch    2/26   train_loss = 0.412\n",
      "Epoch  88 Batch   12/26   train_loss = 0.455\n",
      "Epoch  88 Batch   22/26   train_loss = 0.423\n",
      "Epoch  89 Batch    6/26   train_loss = 0.393\n",
      "Epoch  89 Batch   16/26   train_loss = 0.430\n",
      "Epoch  90 Batch    0/26   train_loss = 0.412\n",
      "Epoch  90 Batch   10/26   train_loss = 0.417\n",
      "Epoch  90 Batch   20/26   train_loss = 0.379\n",
      "Epoch  91 Batch    4/26   train_loss = 0.374\n",
      "Epoch  91 Batch   14/26   train_loss = 0.370\n",
      "Epoch  91 Batch   24/26   train_loss = 0.319\n",
      "Epoch  92 Batch    8/26   train_loss = 0.331\n",
      "Epoch  92 Batch   18/26   train_loss = 0.329\n",
      "Epoch  93 Batch    2/26   train_loss = 0.323\n",
      "Epoch  93 Batch   12/26   train_loss = 0.314\n",
      "Epoch  93 Batch   22/26   train_loss = 0.335\n",
      "Epoch  94 Batch    6/26   train_loss = 0.312\n",
      "Epoch  94 Batch   16/26   train_loss = 0.320\n",
      "Epoch  95 Batch    0/26   train_loss = 0.312\n",
      "Epoch  95 Batch   10/26   train_loss = 0.336\n",
      "Epoch  95 Batch   20/26   train_loss = 0.275\n",
      "Epoch  96 Batch    4/26   train_loss = 0.279\n",
      "Epoch  96 Batch   14/26   train_loss = 0.281\n",
      "Epoch  96 Batch   24/26   train_loss = 0.233\n",
      "Epoch  97 Batch    8/26   train_loss = 0.248\n",
      "Epoch  97 Batch   18/26   train_loss = 0.254\n",
      "Epoch  98 Batch    2/26   train_loss = 0.263\n",
      "Epoch  98 Batch   12/26   train_loss = 0.238\n",
      "Epoch  98 Batch   22/26   train_loss = 0.248\n",
      "Epoch  99 Batch    6/26   train_loss = 0.230\n",
      "Epoch  99 Batch   16/26   train_loss = 0.241\n",
      "Epoch 100 Batch    0/26   train_loss = 0.216\n",
      "Epoch 100 Batch   10/26   train_loss = 0.231\n",
      "Epoch 100 Batch   20/26   train_loss = 0.210\n",
      "Epoch 101 Batch    4/26   train_loss = 0.189\n",
      "Epoch 101 Batch   14/26   train_loss = 0.197\n",
      "Epoch 101 Batch   24/26   train_loss = 0.178\n",
      "Epoch 102 Batch    8/26   train_loss = 0.185\n",
      "Epoch 102 Batch   18/26   train_loss = 0.183\n",
      "Epoch 103 Batch    2/26   train_loss = 0.192\n",
      "Epoch 103 Batch   12/26   train_loss = 0.178\n",
      "Epoch 103 Batch   22/26   train_loss = 0.187\n",
      "Epoch 104 Batch    6/26   train_loss = 0.181\n",
      "Epoch 104 Batch   16/26   train_loss = 0.195\n",
      "Epoch 105 Batch    0/26   train_loss = 0.175\n",
      "Epoch 105 Batch   10/26   train_loss = 0.192\n",
      "Epoch 105 Batch   20/26   train_loss = 0.178\n",
      "Epoch 106 Batch    4/26   train_loss = 0.164\n",
      "Epoch 106 Batch   14/26   train_loss = 0.177\n",
      "Epoch 106 Batch   24/26   train_loss = 0.153\n",
      "Epoch 107 Batch    8/26   train_loss = 0.168\n",
      "Epoch 107 Batch   18/26   train_loss = 0.166\n",
      "Epoch 108 Batch    2/26   train_loss = 0.170\n",
      "Epoch 108 Batch   12/26   train_loss = 0.161\n",
      "Epoch 108 Batch   22/26   train_loss = 0.175\n",
      "Epoch 109 Batch    6/26   train_loss = 0.165\n",
      "Epoch 109 Batch   16/26   train_loss = 0.182\n",
      "Epoch 110 Batch    0/26   train_loss = 0.167\n",
      "Epoch 110 Batch   10/26   train_loss = 0.182\n",
      "Epoch 110 Batch   20/26   train_loss = 0.169\n",
      "Epoch 111 Batch    4/26   train_loss = 0.156\n",
      "Epoch 111 Batch   14/26   train_loss = 0.169\n",
      "Epoch 111 Batch   24/26   train_loss = 0.148\n",
      "Epoch 112 Batch    8/26   train_loss = 0.163\n",
      "Epoch 112 Batch   18/26   train_loss = 0.161\n",
      "Epoch 113 Batch    2/26   train_loss = 0.166\n",
      "Epoch 113 Batch   12/26   train_loss = 0.157\n",
      "Epoch 113 Batch   22/26   train_loss = 0.171\n",
      "Epoch 114 Batch    6/26   train_loss = 0.162\n",
      "Epoch 114 Batch   16/26   train_loss = 0.179\n",
      "Epoch 115 Batch    0/26   train_loss = 0.163\n",
      "Epoch 115 Batch   10/26   train_loss = 0.176\n",
      "Epoch 115 Batch   20/26   train_loss = 0.165\n",
      "Epoch 116 Batch    4/26   train_loss = 0.154\n",
      "Epoch 116 Batch   14/26   train_loss = 0.166\n",
      "Epoch 116 Batch   24/26   train_loss = 0.145\n",
      "Epoch 117 Batch    8/26   train_loss = 0.161\n",
      "Epoch 117 Batch   18/26   train_loss = 0.158\n",
      "Epoch 118 Batch    2/26   train_loss = 0.163\n",
      "Epoch 118 Batch   12/26   train_loss = 0.153\n",
      "Epoch 118 Batch   22/26   train_loss = 0.169\n",
      "Epoch 119 Batch    6/26   train_loss = 0.160\n",
      "Epoch 119 Batch   16/26   train_loss = 0.175\n",
      "Epoch 120 Batch    0/26   train_loss = 0.161\n",
      "Epoch 120 Batch   10/26   train_loss = 0.175\n",
      "Epoch 120 Batch   20/26   train_loss = 0.163\n",
      "Epoch 121 Batch    4/26   train_loss = 0.151\n",
      "Epoch 121 Batch   14/26   train_loss = 0.164\n",
      "Epoch 121 Batch   24/26   train_loss = 0.143\n",
      "Epoch 122 Batch    8/26   train_loss = 0.159\n",
      "Epoch 122 Batch   18/26   train_loss = 0.156\n",
      "Epoch 123 Batch    2/26   train_loss = 0.162\n",
      "Epoch 123 Batch   12/26   train_loss = 0.152\n",
      "Epoch 123 Batch   22/26   train_loss = 0.167\n",
      "Epoch 124 Batch    6/26   train_loss = 0.158\n",
      "Epoch 124 Batch   16/26   train_loss = 0.174\n",
      "Epoch 125 Batch    0/26   train_loss = 0.159\n",
      "Epoch 125 Batch   10/26   train_loss = 0.172\n",
      "Epoch 125 Batch   20/26   train_loss = 0.161\n",
      "Epoch 126 Batch    4/26   train_loss = 0.150\n",
      "Epoch 126 Batch   14/26   train_loss = 0.162\n",
      "Epoch 126 Batch   24/26   train_loss = 0.142\n",
      "Epoch 127 Batch    8/26   train_loss = 0.158\n",
      "Epoch 127 Batch   18/26   train_loss = 0.155\n",
      "Model Trained and Saved\n"
     ]
    }
   ],
   "source": [
    "\"\"\"\n",
    "DON'T MODIFY ANYTHING IN THIS CELL\n",
    "\"\"\"\n",
    "batches = get_batches(int_text, batch_size, seq_length)\n",
    "\n",
    "with tf.Session(graph=train_graph) as sess:\n",
    "    sess.run(tf.global_variables_initializer())\n",
    "\n",
    "    for epoch_i in range(num_epochs):\n",
    "        state = sess.run(initial_state, {input_text: batches[0][0]})\n",
    "\n",
    "        for batch_i, (x, y) in enumerate(batches):\n",
    "            feed = {\n",
    "                input_text: x,\n",
    "                targets: y,\n",
    "                initial_state: state,\n",
    "                lr: learning_rate}\n",
    "            train_loss, state, _ = sess.run([cost, final_state, train_op], feed)\n",
    "\n",
    "            # Show every <show_every_n_batches> batches\n",
    "            if (epoch_i * len(batches) + batch_i) % show_every_n_batches == 0:\n",
    "                print('Epoch {:>3} Batch {:>4}/{}   train_loss = {:.3f}'.format(\n",
    "                    epoch_i,\n",
    "                    batch_i,\n",
    "                    len(batches),\n",
    "                    train_loss))\n",
    "\n",
    "    # Save Model\n",
    "    saver = tf.train.Saver()\n",
    "    saver.save(sess, save_dir)\n",
    "    print('Model Trained and Saved')"
   ]
  },
  {
   "cell_type": "markdown",
   "metadata": {
    "deletable": true,
    "editable": true
   },
   "source": [
    "## Save Parameters\n",
    "Save `seq_length` and `save_dir` for generating a new TV script."
   ]
  },
  {
   "cell_type": "code",
   "execution_count": 127,
   "metadata": {
    "collapsed": false,
    "deletable": true,
    "editable": true
   },
   "outputs": [],
   "source": [
    "\"\"\"\n",
    "DON'T MODIFY ANYTHING IN THIS CELL\n",
    "\"\"\"\n",
    "# Save parameters for checkpoint\n",
    "helper.save_params((seq_length, save_dir))"
   ]
  },
  {
   "cell_type": "markdown",
   "metadata": {
    "deletable": true,
    "editable": true
   },
   "source": [
    "# Checkpoint"
   ]
  },
  {
   "cell_type": "code",
   "execution_count": 128,
   "metadata": {
    "collapsed": false,
    "deletable": true,
    "editable": true
   },
   "outputs": [],
   "source": [
    "\"\"\"\n",
    "DON'T MODIFY ANYTHING IN THIS CELL\n",
    "\"\"\"\n",
    "import tensorflow as tf\n",
    "import numpy as np\n",
    "import helper\n",
    "import problem_unittests as tests\n",
    "\n",
    "_, vocab_to_int, int_to_vocab, token_dict = helper.load_preprocess()\n",
    "seq_length, load_dir = helper.load_params()"
   ]
  },
  {
   "cell_type": "markdown",
   "metadata": {
    "deletable": true,
    "editable": true
   },
   "source": [
    "## Implement Generate Functions\n",
    "### Get Tensors\n",
    "Get tensors from `loaded_graph` using the function [`get_tensor_by_name()`](https://www.tensorflow.org/api_docs/python/tf/Graph#get_tensor_by_name).  Get the tensors using the following names:\n",
    "- \"input:0\"\n",
    "- \"initial_state:0\"\n",
    "- \"final_state:0\"\n",
    "- \"probs:0\"\n",
    "\n",
    "Return the tensors in the following tuple `(InputTensor, InitialStateTensor, FinalStateTensor, ProbsTensor)` "
   ]
  },
  {
   "cell_type": "code",
   "execution_count": 133,
   "metadata": {
    "collapsed": false,
    "deletable": true,
    "editable": true
   },
   "outputs": [
    {
     "name": "stdout",
     "output_type": "stream",
     "text": [
      "Tests Passed\n"
     ]
    }
   ],
   "source": [
    "def get_tensors(loaded_graph):\n",
    "    \"\"\"\n",
    "    Get input, initial state, final state, and probabilities tensor from <loaded_graph>\n",
    "    :param loaded_graph: TensorFlow graph loaded from file\n",
    "    :return: Tuple (InputTensor, InitialStateTensor, FinalStateTensor, ProbsTensor)\n",
    "    \"\"\"\n",
    "    input_tensor = loaded_graph.get_tensor_by_name(\"input:0\")\n",
    "    initial_state = loaded_graph.get_tensor_by_name(\"initial_state:0\")\n",
    "    final_state = loaded_graph.get_tensor_by_name(\"final_state:0\")\n",
    "    probs = loaded_graph.get_tensor_by_name(\"probs:0\")\n",
    "    return input_tensor, initial_state, final_state, probs\n",
    "\n",
    "\n",
    "\"\"\"\n",
    "DON'T MODIFY ANYTHING IN THIS CELL THAT IS BELOW THIS LINE\n",
    "\"\"\"\n",
    "tests.test_get_tensors(get_tensors)"
   ]
  },
  {
   "cell_type": "markdown",
   "metadata": {
    "deletable": true,
    "editable": true
   },
   "source": [
    "### Choose Word\n",
    "Implement the `pick_word()` function to select the next word using `probabilities`."
   ]
  },
  {
   "cell_type": "code",
   "execution_count": 143,
   "metadata": {
    "collapsed": false,
    "deletable": true,
    "editable": true
   },
   "outputs": [
    {
     "name": "stdout",
     "output_type": "stream",
     "text": [
      "Tests Passed\n"
     ]
    }
   ],
   "source": [
    "def pick_word(probabilities, int_to_vocab):\n",
    "    \"\"\"\n",
    "    Pick the next word in the generated text\n",
    "    :param probabilities: Probabilites of the next word\n",
    "    :param int_to_vocab: Dictionary of word ids as the keys and words as the values\n",
    "    :return: String of the predicted word\n",
    "    \"\"\"\n",
    "    return np.random.choice(list(int_to_vocab.values()), 1, p=probabilities)[0]\n",
    "\n",
    "\n",
    "\"\"\"\n",
    "DON'T MODIFY ANYTHING IN THIS CELL THAT IS BELOW THIS LINE\n",
    "\"\"\"\n",
    "tests.test_pick_word(pick_word)"
   ]
  },
  {
   "cell_type": "markdown",
   "metadata": {
    "deletable": true,
    "editable": true
   },
   "source": [
    "## Generate TV Script\n",
    "This will generate the TV script for you.  Set `gen_length` to the length of TV script you want to generate."
   ]
  },
  {
   "cell_type": "code",
   "execution_count": 144,
   "metadata": {
    "collapsed": false,
    "deletable": true,
    "editable": true
   },
   "outputs": [
    {
     "name": "stdout",
     "output_type": "stream",
     "text": [
      "moe_szyslak:(generously) aw, homer. you know your money's no good here.\n",
      "moe_szyslak: hey, hey, i knew you see it.\n",
      "moe_szyslak: nah, who get the pope who driving king of a voice.\n",
      "moe_szyslak: hey, moe... but carl_carlson: was that out for you to beat up behind your son's drink?\n",
      "homer_simpson: okay, moe.\n",
      "moe_szyslak:(excited) one there, but you're the informant here.(barney_gumble: or ever are for a good thing.\n",
      "homer_simpson:(calling) i know look, barn.\n",
      "moe_szyslak: yeah, i make me the score? you said how about a minute. who's just a kind of moe's.\n",
      "barney_gumble:(crazy book) no,\" and i'm down to the springfield was the springfield something 'cause. let me homer about that.\n",
      "homer_simpson: i can't go.\n",
      "lenny_leonard:(horrified and flaming moe, duff too go to\" see that springfield, that.\n",
      "apu_nahasapeemapetilon:(a nervous hunter) she's an best an magic!\n",
      "carl_carlson: that's a lotta\n"
     ]
    }
   ],
   "source": [
    "gen_length = 200\n",
    "# homer_simpson, moe_szyslak, or Barney_Gumble\n",
    "prime_word = 'moe_szyslak'\n",
    "\n",
    "\"\"\"\n",
    "DON'T MODIFY ANYTHING IN THIS CELL THAT IS BELOW THIS LINE\n",
    "\"\"\"\n",
    "loaded_graph = tf.Graph()\n",
    "with tf.Session(graph=loaded_graph) as sess:\n",
    "    # Load saved model\n",
    "    loader = tf.train.import_meta_graph(load_dir + '.meta')\n",
    "    loader.restore(sess, load_dir)\n",
    "\n",
    "    # Get Tensors from loaded model\n",
    "    input_text, initial_state, final_state, probs = get_tensors(loaded_graph)\n",
    "\n",
    "    # Sentences generation setup\n",
    "    gen_sentences = [prime_word + ':']\n",
    "    prev_state = sess.run(initial_state, {input_text: np.array([[1]])})\n",
    "\n",
    "    # Generate sentences\n",
    "    for n in range(gen_length):\n",
    "        # Dynamic Input\n",
    "        dyn_input = [[vocab_to_int[word] for word in gen_sentences[-seq_length:]]]\n",
    "        dyn_seq_length = len(dyn_input[0])\n",
    "\n",
    "        # Get Prediction\n",
    "        probabilities, prev_state = sess.run(\n",
    "            [probs, final_state],\n",
    "            {input_text: dyn_input, initial_state: prev_state})\n",
    "        \n",
    "        pred_word = pick_word(probabilities[dyn_seq_length-1], int_to_vocab)\n",
    "\n",
    "        gen_sentences.append(pred_word)\n",
    "    \n",
    "    # Remove tokens\n",
    "    tv_script = ' '.join(gen_sentences)\n",
    "    for key, token in token_dict.items():\n",
    "        ending = ' ' if key in ['\\n', '(', '\"'] else ''\n",
    "        tv_script = tv_script.replace(' ' + token.lower(), key)\n",
    "    tv_script = tv_script.replace('\\n ', '\\n')\n",
    "    tv_script = tv_script.replace('( ', '(')\n",
    "        \n",
    "    print(tv_script)"
   ]
  },
  {
   "cell_type": "markdown",
   "metadata": {
    "deletable": true,
    "editable": true
   },
   "source": [
    "# The TV Script is Nonsensical\n",
    "It's ok if the TV script doesn't make any sense.  We trained on less than a megabyte of text.  In order to get good results, you'll have to use a smaller vocabulary or get more data.  Luckly there's more data!  As we mentioned in the begging of this project, this is a subset of [another dataset](https://www.kaggle.com/wcukierski/the-simpsons-by-the-data).  We didn't have you train on all the data, because that would take too long.  However, you are free to train your neural network on all the data.  After you complete the project, of course.\n",
    "# Submitting This Project\n",
    "When submitting this project, make sure to run all the cells before saving the notebook. Save the notebook file as \"dlnd_tv_script_generation.ipynb\" and save it as a HTML file under \"File\" -> \"Download as\". Include the \"helper.py\" and \"problem_unittests.py\" files in your submission."
   ]
  }
 ],
 "metadata": {
  "kernelspec": {
   "display_name": "Python 3",
   "language": "python",
   "name": "python3"
  },
  "language_info": {
   "codemirror_mode": {
    "name": "ipython",
    "version": 3
   },
   "file_extension": ".py",
   "mimetype": "text/x-python",
   "name": "python",
   "nbconvert_exporter": "python",
   "pygments_lexer": "ipython3",
   "version": "3.5.3"
  },
  "widgets": {
   "state": {},
   "version": "1.1.2"
  }
 },
 "nbformat": 4,
 "nbformat_minor": 0
}
